{
 "cells": [
  {
   "cell_type": "code",
   "execution_count": 1,
   "id": "766371d7",
   "metadata": {},
   "outputs": [],
   "source": [
    "import pandas as pd\n",
    "from sqlalchemy import create_engine\n",
    "from urllib.parse import quote\n",
    "from pandas.io import sql"
   ]
  },
  {
   "cell_type": "code",
   "execution_count": 2,
   "id": "df32a41c",
   "metadata": {},
   "outputs": [],
   "source": [
    "username = 'root'\n",
    "database = 'SanFranciscoFilmLocations'\n",
    "password = quote ('Wajeeha@1993')\n",
    "host = 'localhost'"
   ]
  },
  {
   "cell_type": "code",
   "execution_count": 3,
   "id": "7aae77a1",
   "metadata": {},
   "outputs": [],
   "source": [
    "conn_string = f\"mysql://{username}:{password}@{host}/{database}\""
   ]
  },
  {
   "cell_type": "code",
   "execution_count": 4,
   "id": "ce0f45fe",
   "metadata": {},
   "outputs": [],
   "source": [
    "db = create_engine(conn_string)"
   ]
  },
  {
   "cell_type": "code",
   "execution_count": 5,
   "id": "4578b097",
   "metadata": {},
   "outputs": [],
   "source": [
    "conn = db.connect()"
   ]
  },
  {
   "cell_type": "code",
   "execution_count": 10,
   "id": "6bb7325d",
   "metadata": {},
   "outputs": [],
   "source": [
    "csv_file_path = 'D:\\Coursera\\SQL_ETL_with_python\\Week 1\\Filmlocations.csv'"
   ]
  },
  {
   "cell_type": "code",
   "execution_count": 11,
   "id": "a0c8bce4",
   "metadata": {},
   "outputs": [],
   "source": [
    "df = pd.read_csv(csv_file_path)"
   ]
  },
  {
   "cell_type": "code",
   "execution_count": 12,
   "id": "f7fb1b3f",
   "metadata": {},
   "outputs": [],
   "source": [
    "file = 'filmlocations'"
   ]
  },
  {
   "cell_type": "code",
   "execution_count": 13,
   "id": "7baa273d",
   "metadata": {},
   "outputs": [
    {
     "data": {
      "text/plain": [
       "2084"
      ]
     },
     "execution_count": 13,
     "metadata": {},
     "output_type": "execute_result"
    }
   ],
   "source": [
    "df.to_sql(file,con=conn, index=False)"
   ]
  },
  {
   "cell_type": "code",
   "execution_count": 14,
   "id": "7254a9e4",
   "metadata": {},
   "outputs": [],
   "source": [
    "conn.close()"
   ]
  }
 ],
 "metadata": {
  "kernelspec": {
   "display_name": "Python 3 (ipykernel)",
   "language": "python",
   "name": "python3"
  },
  "language_info": {
   "codemirror_mode": {
    "name": "ipython",
    "version": 3
   },
   "file_extension": ".py",
   "mimetype": "text/x-python",
   "name": "python",
   "nbconvert_exporter": "python",
   "pygments_lexer": "ipython3",
   "version": "3.11.5"
  }
 },
 "nbformat": 4,
 "nbformat_minor": 5
}
